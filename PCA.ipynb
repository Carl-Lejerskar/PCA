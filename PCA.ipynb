{
 "cells": [
  {
   "cell_type": "markdown",
   "metadata": {},
   "source": [
    "<h1 style=\"font-size:32px; text-align:center;\">A Simple Introduction to Principle Component Analysis</h1>\n",
    "<hr>\n",
    "<h1 style=\"font-size:18px; text-align:center; margin-bottom:24px;\">Carl Lejerskar</h1>\n",
    "<hr>"
   ]
  },
  {
   "cell_type": "markdown",
   "metadata": {},
   "source": [
    "Sometimes you are given a dataset with too many features to handle, and you might just have a couple thousand rows to work with. You instantly resort to visualization, descriptive statistics, and supervised models such as Lasso to ascertain which features are keepers, and which aren't. While these tools are obviously critical for feature selection and are necessary for effective data preparation, when there are hundreds of variables the task becomes very daunting. In these cases PCA is a great tool in the box that may be able to help. PCA is an unsupervised learning method focused on the variability of the data that provides a way for you to quickly reduce the dimension of your data while creating a new, manageable dataset to work with. In this notebook I will manually perform PCA on a very simple data matrix as an exercise to help demonstrate the concept."
   ]
  },
  {
   "cell_type": "markdown",
   "metadata": {},
   "source": [
    "### The Statistics: "
   ]
  },
  {
   "cell_type": "markdown",
   "metadata": {},
   "source": [
    "*Note: This formulation of PCA is based on the eigenvalue decomposition of $\\mathbf{X^T X}$. Most formulations found online and applied in computation follow the Singular Value Decomposition of $\\mathbf{X}$, so I thought I would add another resource for the former.*"
   ]
  },
  {
   "cell_type": "markdown",
   "metadata": {},
   "source": [
    "Principle Component Analysis is a statistical method that allows for the P features in a data matrix $\\mathbf{X}$ to be linearly transformed into a set of orthogonal vectors through its dot product with the eigenvector matrix of $\\mathbf{X^T X}$. Each of these orthogonal vectors, or Principle Components, are associated with an eigenvalue of $\\mathbf{X^T X}$. The Principle Component corresponding to the largest eigenvalue captures the highest amount of variability in the data, and the percentage of total variability captured within the data matrix is equal to the ratio of the Principle Component's corresponding eigenvalue divided by the sum of all eigenvalues. This allows for a metric to perform dimension reduction, especially useful in extremely high dimensional, correlated data."
   ]
  },
  {
   "cell_type": "markdown",
   "metadata": {},
   "source": [
    "Let's use a toy example with only two features to easily and quickly demonstrate how PCA works step-by-step, and gain some intuition from some simple graphs!"
   ]
  },
  {
   "cell_type": "markdown",
   "metadata": {},
   "source": [
    "### Loading Packages"
   ]
  },
  {
   "cell_type": "code",
   "execution_count": 1,
   "metadata": {},
   "outputs": [],
   "source": [
    "from sklearn import datasets\n",
    "import pandas as pd\n",
    "import numpy as np\n",
    "import matplotlib.pyplot as plt\n",
    "import seaborn as sns\n",
    "from numpy import linalg as LA"
   ]
  },
  {
   "cell_type": "markdown",
   "metadata": {},
   "source": [
    "### Obtaining the Data Matrix "
   ]
  },
  {
   "cell_type": "markdown",
   "metadata": {},
   "source": [
    "Using sklearn's builtin diabetes dataset."
   ]
  },
  {
   "cell_type": "code",
   "execution_count": 2,
   "metadata": {},
   "outputs": [
    {
     "data": {
      "text/html": [
       "<div>\n",
       "<style scoped>\n",
       "    .dataframe tbody tr th:only-of-type {\n",
       "        vertical-align: middle;\n",
       "    }\n",
       "\n",
       "    .dataframe tbody tr th {\n",
       "        vertical-align: top;\n",
       "    }\n",
       "\n",
       "    .dataframe thead th {\n",
       "        text-align: right;\n",
       "    }\n",
       "</style>\n",
       "<table border=\"1\" class=\"dataframe\">\n",
       "  <thead>\n",
       "    <tr style=\"text-align: right;\">\n",
       "      <th></th>\n",
       "      <th>age</th>\n",
       "      <th>sex</th>\n",
       "      <th>bmi</th>\n",
       "      <th>map</th>\n",
       "      <th>tc</th>\n",
       "      <th>ldl</th>\n",
       "      <th>hdl</th>\n",
       "      <th>tch</th>\n",
       "      <th>ltg</th>\n",
       "      <th>glu</th>\n",
       "    </tr>\n",
       "  </thead>\n",
       "  <tbody>\n",
       "    <tr>\n",
       "      <th>0</th>\n",
       "      <td>0.038076</td>\n",
       "      <td>0.050680</td>\n",
       "      <td>0.061696</td>\n",
       "      <td>0.021872</td>\n",
       "      <td>-0.044223</td>\n",
       "      <td>-0.034821</td>\n",
       "      <td>-0.043401</td>\n",
       "      <td>-0.002592</td>\n",
       "      <td>0.019908</td>\n",
       "      <td>-0.017646</td>\n",
       "    </tr>\n",
       "    <tr>\n",
       "      <th>1</th>\n",
       "      <td>-0.001882</td>\n",
       "      <td>-0.044642</td>\n",
       "      <td>-0.051474</td>\n",
       "      <td>-0.026328</td>\n",
       "      <td>-0.008449</td>\n",
       "      <td>-0.019163</td>\n",
       "      <td>0.074412</td>\n",
       "      <td>-0.039493</td>\n",
       "      <td>-0.068330</td>\n",
       "      <td>-0.092204</td>\n",
       "    </tr>\n",
       "    <tr>\n",
       "      <th>2</th>\n",
       "      <td>0.085299</td>\n",
       "      <td>0.050680</td>\n",
       "      <td>0.044451</td>\n",
       "      <td>-0.005671</td>\n",
       "      <td>-0.045599</td>\n",
       "      <td>-0.034194</td>\n",
       "      <td>-0.032356</td>\n",
       "      <td>-0.002592</td>\n",
       "      <td>0.002864</td>\n",
       "      <td>-0.025930</td>\n",
       "    </tr>\n",
       "    <tr>\n",
       "      <th>3</th>\n",
       "      <td>-0.089063</td>\n",
       "      <td>-0.044642</td>\n",
       "      <td>-0.011595</td>\n",
       "      <td>-0.036656</td>\n",
       "      <td>0.012191</td>\n",
       "      <td>0.024991</td>\n",
       "      <td>-0.036038</td>\n",
       "      <td>0.034309</td>\n",
       "      <td>0.022692</td>\n",
       "      <td>-0.009362</td>\n",
       "    </tr>\n",
       "    <tr>\n",
       "      <th>4</th>\n",
       "      <td>0.005383</td>\n",
       "      <td>-0.044642</td>\n",
       "      <td>-0.036385</td>\n",
       "      <td>0.021872</td>\n",
       "      <td>0.003935</td>\n",
       "      <td>0.015596</td>\n",
       "      <td>0.008142</td>\n",
       "      <td>-0.002592</td>\n",
       "      <td>-0.031991</td>\n",
       "      <td>-0.046641</td>\n",
       "    </tr>\n",
       "  </tbody>\n",
       "</table>\n",
       "</div>"
      ],
      "text/plain": [
       "        age       sex       bmi       map        tc       ldl       hdl  \\\n",
       "0  0.038076  0.050680  0.061696  0.021872 -0.044223 -0.034821 -0.043401   \n",
       "1 -0.001882 -0.044642 -0.051474 -0.026328 -0.008449 -0.019163  0.074412   \n",
       "2  0.085299  0.050680  0.044451 -0.005671 -0.045599 -0.034194 -0.032356   \n",
       "3 -0.089063 -0.044642 -0.011595 -0.036656  0.012191  0.024991 -0.036038   \n",
       "4  0.005383 -0.044642 -0.036385  0.021872  0.003935  0.015596  0.008142   \n",
       "\n",
       "        tch       ltg       glu  \n",
       "0 -0.002592  0.019908 -0.017646  \n",
       "1 -0.039493 -0.068330 -0.092204  \n",
       "2 -0.002592  0.002864 -0.025930  \n",
       "3  0.034309  0.022692 -0.009362  \n",
       "4 -0.002592 -0.031991 -0.046641  "
      ]
     },
     "execution_count": 2,
     "metadata": {},
     "output_type": "execute_result"
    }
   ],
   "source": [
    "columns =[\"age\", \"sex\", \"bmi\", \"map\", \"tc\", \"ldl\", \"hdl\", \"tch\", \"ltg\", \"glu\"]\n",
    "data = pd.DataFrame(datasets.load_diabetes().data, columns= columns)\n",
    "data.head()"
   ]
  },
  {
   "cell_type": "markdown",
   "metadata": {},
   "source": [
    "Let's find some correlated variabels to clearly show how correlation changes between the original features and the principle components."
   ]
  },
  {
   "cell_type": "code",
   "execution_count": 3,
   "metadata": {},
   "outputs": [
    {
     "data": {
      "text/plain": [
       "<matplotlib.axes._subplots.AxesSubplot at 0x19279cc60f0>"
      ]
     },
     "execution_count": 3,
     "metadata": {},
     "output_type": "execute_result"
    },
    {
     "data": {
      "image/png": "[encoded data removed]",
      "text/plain": [
       "<Figure size 432x288 with 2 Axes>"
      ]
     },
     "metadata": {},
     "output_type": "display_data"
    }
   ],
   "source": [
    "sns.heatmap(data.corr())"
   ]
  },
  {
   "cell_type": "code",
   "execution_count": 4,
   "metadata": {},
   "outputs": [
    {
     "data": {
      "text/plain": [
       "0.8966629578104901"
      ]
     },
     "execution_count": 4,
     "metadata": {},
     "output_type": "execute_result"
    }
   ],
   "source": [
    "data['ldl'].corr(data['tc'])"
   ]
  },
  {
   "cell_type": "code",
   "execution_count": 5,
   "metadata": {},
   "outputs": [
    {
     "data": {
      "text/plain": [
       "Text(0.5,1,'tc By ldl')"
      ]
     },
     "execution_count": 5,
     "metadata": {},
     "output_type": "execute_result"
    },
    {
     "data": {
      "image/png": "[encoded data removed]",
      "text/plain": [
       "<Figure size 432x288 with 1 Axes>"
      ]
     },
     "metadata": {},
     "output_type": "display_data"
    }
   ],
   "source": [
    "plt.gca().set_aspect('equal', adjustable='box')\n",
    "plt.scatter(data.ldl,data.tc)\n",
    "plt.xlabel('ldl')\n",
    "plt.ylabel('tc')\n",
    "plt.title('tc By ldl')"
   ]
  },
  {
   "cell_type": "markdown",
   "metadata": {},
   "source": [
    "The features ldl and tc have a strong, positive correlation and will work for our toy example."
   ]
  },
  {
   "cell_type": "markdown",
   "metadata": {},
   "source": [
    "### Quick PCA Walkthrough:"
   ]
  },
  {
   "cell_type": "markdown",
   "metadata": {},
   "source": [
    "#### 1. Standardize the features. Subtract their respective means and divide by their respective standard deviations:"
   ]
  },
  {
   "cell_type": "code",
   "execution_count": 6,
   "metadata": {},
   "outputs": [],
   "source": [
    "meanvector = [data.ldl.mean(),data.tc.mean()]\n",
    "sdvector = [data.ldl.std(),data.tc.std()]\n",
    "data = (data[['ldl','tc']] - meanvector)/sdvector"
   ]
  },
  {
   "cell_type": "markdown",
   "metadata": {},
   "source": [
    "#### 2. Calculate $\\mathbf{X}^T \\mathbf{X}$  "
   ]
  },
  {
   "cell_type": "code",
   "execution_count": 7,
   "metadata": {},
   "outputs": [
    {
     "data": {
      "text/plain": [
       "array([[-0.73123602, -0.92869347],\n",
       "       [-0.40243013, -0.17742321],\n",
       "       [-0.71808378, -0.95758848],\n",
       "       [ 0.52480246,  0.25600194],\n",
       "       [ 0.32751893,  0.08263188],\n",
       "       [-1.66504473, -1.44880365]])"
      ]
     },
     "execution_count": 7,
     "metadata": {},
     "output_type": "execute_result"
    }
   ],
   "source": [
    "X = np.array(data)\n",
    "X[0:6,:] #first few rows"
   ]
  },
  {
   "cell_type": "markdown",
   "metadata": {},
   "source": [
    "#### 3. Calculate the eigenvalues and the eigenvector matrix of $\\mathbf{X}^T \\mathbf{X}$ :  $\\mathbf{V}$"
   ]
  },
  {
   "cell_type": "code",
   "execution_count": 8,
   "metadata": {},
   "outputs": [
    {
     "name": "stdout",
     "output_type": "stream",
     "text": [
      "[836.42836439  45.57163561]\n"
     ]
    },
    {
     "data": {
      "text/plain": [
       "array([[ 0.70710678, -0.70710678],\n",
       "       [ 0.70710678,  0.70710678]])"
      ]
     },
     "execution_count": 8,
     "metadata": {},
     "output_type": "execute_result"
    }
   ],
   "source": [
    "w, V = LA.eig(X.transpose() @ X)\n",
    "print(w) #eigenvalues\n",
    "V #matrix of eigenvectors   "
   ]
  },
  {
   "cell_type": "markdown",
   "metadata": {},
   "source": [
    "The columns of this matrix are the eigenvectors, pointing towards the directions of greatest variation for the data. They will become the new axes after the features are transformed into principle components! This is visualized below:"
   ]
  },
  {
   "cell_type": "code",
   "execution_count": 9,
   "metadata": {},
   "outputs": [
    {
     "data": {
      "text/plain": [
       "Text(0.5,1,'tc By ldl With Eigenvectors')"
      ]
     },
     "execution_count": 9,
     "metadata": {},
     "output_type": "execute_result"
    },
    {
     "data": {
      "image/png": "[encoded data removed]",
      "text/plain": [
       "<Figure size 432x288 with 1 Axes>"
      ]
     },
     "metadata": {},
     "output_type": "display_data"
    }
   ],
   "source": [
    "plt.scatter(data.ldl,data.tc)\n",
    "plt.gca().set_aspect('equal', adjustable='box')\n",
    "plt.annotate(s='', xytext=(0,0), xy=(0.70710678,0.70710678), arrowprops=dict(arrowstyle='->', facecolor='black', linewidth=2))\n",
    "plt.annotate(s='', xytext=(0,0), xy=(-0.70710678,0.70710678), arrowprops=dict(arrowstyle='->',facecolor='black', linewidth=2))\n",
    "plt.xlabel('ldl')\n",
    "plt.ylabel('tc')\n",
    "plt.title('tc By ldl With Eigenvectors')"
   ]
  },
  {
   "cell_type": "markdown",
   "metadata": {},
   "source": [
    "The two black arrows are the eigenvectors of $\\mathbf{X}^T \\mathbf{X}$. If you imagine that the two black arrows became the new axes (rotate the graph clockwise about 45 degrees), you would no longer see a pattern signifying strong positive correlation between the features, rather the points would seem to be randomly distributed."
   ]
  },
  {
   "cell_type": "markdown",
   "metadata": {},
   "source": [
    "#### 4. Find the Principle Component Matrix: $\\mathbf{X} \\mathbf{V}$"
   ]
  },
  {
   "cell_type": "code",
   "execution_count": 10,
   "metadata": {},
   "outputs": [],
   "source": [
    "PC = X @ V"
   ]
  },
  {
   "cell_type": "code",
   "execution_count": 11,
   "metadata": {},
   "outputs": [
    {
     "data": {
      "text/plain": [
       "array([[-1.1737474 , -0.1396235 ],\n",
       "       [-0.41001823,  0.15910392],\n",
       "       [-1.18487922, -0.16935539],\n",
       "       [ 0.55211209, -0.19007067],\n",
       "       [ 0.29002042, -0.17316129]])"
      ]
     },
     "execution_count": 11,
     "metadata": {},
     "output_type": "execute_result"
    }
   ],
   "source": [
    "PC[0:5,:]"
   ]
  },
  {
   "cell_type": "code",
   "execution_count": 12,
   "metadata": {},
   "outputs": [
    {
     "data": {
      "text/plain": [
       "Text(0.5,1,'Principle Components')"
      ]
     },
     "execution_count": 12,
     "metadata": {},
     "output_type": "execute_result"
    },
    {
     "data": {
      "image/png": "[encoded data removed]",
      "text/plain": [
       "<Figure size 432x288 with 1 Axes>"
      ]
     },
     "metadata": {},
     "output_type": "display_data"
    }
   ],
   "source": [
    "plt.scatter(PC[:,0],PC[:,1])\n",
    "LA.eig(PC.transpose() @ PC)\n",
    "plt.gca().set_aspect('equal', adjustable='box')\n",
    "plt.xlabel('PC 1')\n",
    "plt.ylabel('PC 2')\n",
    "plt.xlim([-3,4.5])\n",
    "plt.title('Principle Components')"
   ]
  },
  {
   "cell_type": "markdown",
   "metadata": {},
   "source": [
    "Here you can see the plot of the two principle components. It is exactly as described! The principle components seem uncorrelated, let us check!"
   ]
  },
  {
   "cell_type": "code",
   "execution_count": 13,
   "metadata": {},
   "outputs": [
    {
     "name": "stdout",
     "output_type": "stream",
     "text": [
      "[[1.00000000e+00 1.02357825e-17]\n",
      " [1.02357825e-17 1.00000000e+00]]\n",
      "[[1. 0.]\n",
      " [0. 1.]]\n"
     ]
    }
   ],
   "source": [
    "print(np.corrcoef(PC[:,0],PC[:,1])) #floating point precision gives extremely small values instead of 0!\n",
    "print(np.round(np.corrcoef(PC[:,0],PC[:,1])))"
   ]
  },
  {
   "cell_type": "markdown",
   "metadata": {},
   "source": [
    "The principle components are uncorrelated! Now we can't forget about the eigenvalues. According to my claim in the beginning of this exercise, the ratio of each PC's corresponding eigenvalue to the sum of the eigenvalues is the percentage of variability in the data that the Principle Component captures. Let us quickly verify this:"
   ]
  },
  {
   "cell_type": "code",
   "execution_count": 14,
   "metadata": {},
   "outputs": [
    {
     "name": "stdout",
     "output_type": "stream",
     "text": [
      "0.9483314789052448\n",
      "0.9483314789052449\n",
      "0.05166852109475524\n",
      "0.051668521094755115\n"
     ]
    }
   ],
   "source": [
    "print(w[0]/sum(w)) #The first principle component should capture ~95 percent of the variability in the data.\n",
    "print(np.var(PC[:,0])/(np.var(PC[:,0])+np.var(PC[:,1])))#Exactly right!\n",
    "print(w[1]/sum(w)) \n",
    "print(np.var(PC[:,1])/(np.var(PC[:,0])+np.var(PC[:,1]))) #Check's out for the second Principle Component as well!"
   ]
  },
  {
   "cell_type": "markdown",
   "metadata": {},
   "source": [
    "The ratio of the corresponding eigenvalue to the sum of eigenvalues is in fact the percentage of variance captured by the Principle Component!"
   ]
  },
  {
   "cell_type": "markdown",
   "metadata": {},
   "source": [
    "### So why do we use PCA?"
   ]
  },
  {
   "cell_type": "markdown",
   "metadata": {},
   "source": [
    "#### Dimension Reduction"
   ]
  },
  {
   "cell_type": "markdown",
   "metadata": {},
   "source": [
    "As explained in the introduction, you may face a high-dimensional dataset with many correlated features. This occurs often in the real world, such as data concerning geneme mapping. In such cases one could perform feature selection by using the absolute loss function through Lasso which drives certain features to 0 or the squared loss function in Ridge Regression which shrinks coefficients; however, since the variables are correlated PCA is also a great option! While PCA does not select from the original features, it does have the capability to perform dimensionality reduction:"
   ]
  },
  {
   "cell_type": "markdown",
   "metadata": {},
   "source": [
    "Imagine if you set a tolerance of how much variability you wanted your model to capture, perhaps that you want to keep the components that keep explain 90 percent of the variability of the data ($\\mathbf{\\alpha} = 0.90$). You can rank the eigenvalues from largest to smallest:"
   ]
  },
  {
   "cell_type": "markdown",
   "metadata": {},
   "source": [
    "$\\mathbf{\\lambda_{i}>..>\\lambda_{k}>..>\\lambda_{p}}$"
   ]
  },
  {
   "cell_type": "markdown",
   "metadata": {},
   "source": [
    "and keep the first $\\mathbf{k}$ Principle Components whose summation of eigenvalues in this ordered list captures at least 90 percent of the variability of the data according to the ratio:"
   ]
  },
  {
   "cell_type": "markdown",
   "metadata": {},
   "source": [
    "$\\mathbf{\\dfrac{\\sum_{i=1}^{k}\\lambda_{i}}{\\sum_{i=1}^{p}\\lambda_{i}}}$$ \\hspace{2mm} > \\hspace{2mm} \\mathbf{\\alpha}\\hspace{2mm} = \\hspace{2mm} 90$"
   ]
  },
  {
   "cell_type": "markdown",
   "metadata": {},
   "source": [
    "In the case of our toy example, the first component capures nearly 95 percent of the variability of the data, so we would throw out the second component, meaning our final data matrix would actually just be a single column, reducing the dimensions from 2 to 1. Imagine having thousands of feaures; PCA may yield a few hundred components that capture the vast majority of the variability within the data. "
   ]
  },
  {
   "cell_type": "markdown",
   "metadata": {},
   "source": [
    "#### Feature Extraction"
   ]
  },
  {
   "cell_type": "markdown",
   "metadata": {},
   "source": [
    "As mentioned earlier, unlike other methods such as Lasso/Ridge regression, PCA does not perform feature selection as it does not leave you with a smaller set of the original features. Instead it transforms the features into a set of transformed, uncorrelated features, from which you can choose a subset that sufficiently captures the variability of the original data. Since this subset is of lower dimension, it can be utilized to create a predictive model that requires less computational resources."
   ]
  },
  {
   "cell_type": "markdown",
   "metadata": {},
   "source": [
    "### Conclusion"
   ]
  },
  {
   "cell_type": "markdown",
   "metadata": {},
   "source": [
    "PCA is a simple, but powerful tool! It does not take very many steps, and it allows you to make an unwieldy dataset easier to manage, while creating a set of potentially useful features to work with. However, the next time you are faced with a slew of nominal, categorical variables and suddenly go from twenty predictors to nearly a hundred due to dummy encoding, you may want to look into other factorization methods, such as Multiple Correspondence Analysis or Non-Negative Matrix Factorization, as PCA may not give the best results with binary variables."
   ]
  }
 ],
 "metadata": {
  "kernelspec": {
   "display_name": "Python 3",
   "language": "python",
   "name": "python3"
  },
  "language_info": {
   "codemirror_mode": {
    "name": "ipython",
    "version": 3
   },
   "file_extension": ".py",
   "mimetype": "text/x-python",
   "name": "python",
   "nbconvert_exporter": "python",
   "pygments_lexer": "ipython3",
   "version": "3.6.5"
  }
 },
 "nbformat": 4,
 "nbformat_minor": 2
}
